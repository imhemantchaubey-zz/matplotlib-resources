{
 "cells": [
  {
   "cell_type": "code",
   "execution_count": 1,
   "id": "63843cec",
   "metadata": {},
   "outputs": [],
   "source": [
    "from matplotlib import pyplot as plt"
   ]
  },
  {
   "cell_type": "markdown",
   "id": "358cd405",
   "metadata": {},
   "source": [
    "## Bar Plot"
   ]
  },
  {
   "cell_type": "code",
   "execution_count": 2,
   "id": "43f3b6ce",
   "metadata": {},
   "outputs": [],
   "source": [
    "student = {\n",
    "    'Ram': 89,\n",
    "    'Shyam': 56,\n",
    "    'Geeta': 51\n",
    "}"
   ]
  },
  {
   "cell_type": "code",
   "execution_count": 3,
   "id": "34cca6c8",
   "metadata": {},
   "outputs": [],
   "source": [
    "names = list(student.keys())"
   ]
  },
  {
   "cell_type": "code",
   "execution_count": 4,
   "id": "f78af1f2",
   "metadata": {},
   "outputs": [
    {
     "data": {
      "text/plain": [
       "['Ram', 'Shyam', 'Geeta']"
      ]
     },
     "execution_count": 4,
     "metadata": {},
     "output_type": "execute_result"
    }
   ],
   "source": [
    "names"
   ]
  },
  {
   "cell_type": "code",
   "execution_count": 5,
   "id": "bf96ed11",
   "metadata": {},
   "outputs": [],
   "source": [
    "score = list(student.values())"
   ]
  },
  {
   "cell_type": "code",
   "execution_count": 6,
   "id": "cebe93cc",
   "metadata": {},
   "outputs": [
    {
     "data": {
      "text/plain": [
       "[89, 56, 51]"
      ]
     },
     "execution_count": 6,
     "metadata": {},
     "output_type": "execute_result"
    }
   ],
   "source": [
    "score"
   ]
  },
  {
   "cell_type": "code",
   "execution_count": 7,
   "id": "69e05be5",
   "metadata": {},
   "outputs": [
    {
     "data": {
      "image/png": "[encoded data removed]",
      "text/plain": [
       "<Figure size 432x288 with 1 Axes>"
      ]
     },
     "metadata": {
      "needs_background": "light"
     },
     "output_type": "display_data"
    }
   ],
   "source": [
    "plt.bar(names, score)\n",
    "plt.show()"
   ]
  },
  {
   "cell_type": "code",
   "execution_count": 8,
   "id": "3281a1d8",
   "metadata": {},
   "outputs": [
    {
     "data": {
      "image/png": "[encoded data removed]",
      "text/plain": [
       "<Figure size 432x288 with 1 Axes>"
      ]
     },
     "metadata": {
      "needs_background": "light"
     },
     "output_type": "display_data"
    }
   ],
   "source": [
    "plt.bar(names, score)\n",
    "plt.title('Bar Plot')\n",
    "plt.xlabel('Names')\n",
    "plt.ylabel('Marks')\n",
    "plt.grid(True)\n",
    "plt.show()"
   ]
  },
  {
   "cell_type": "markdown",
   "id": "7e6e4076",
   "metadata": {},
   "source": [
    "## Horizontal Bar Plot"
   ]
  },
  {
   "cell_type": "code",
   "execution_count": 9,
   "id": "015d26f1",
   "metadata": {},
   "outputs": [
    {
     "data": {
      "image/png": "[encoded data removed]",
      "text/plain": [
       "<Figure size 432x288 with 1 Axes>"
      ]
     },
     "metadata": {
      "needs_background": "light"
     },
     "output_type": "display_data"
    }
   ],
   "source": [
    "plt.barh(names, score, color='r')\n",
    "plt.title('Bar Plot')\n",
    "plt.ylabel('Names')\n",
    "plt.xlabel('Marks')\n",
    "plt.grid(True)\n",
    "plt.show()"
   ]
  }
 ],
 "metadata": {
  "kernelspec": {
   "display_name": "Python 3 (ipykernel)",
   "language": "python",
   "name": "python3"
  },
  "language_info": {
   "codemirror_mode": {
    "name": "ipython",
    "version": 3
   },
   "file_extension": ".py",
   "mimetype": "text/x-python",
   "name": "python",
   "nbconvert_exporter": "python",
   "pygments_lexer": "ipython3",
   "version": "3.9.12"
  }
 },
 "nbformat": 4,
 "nbformat_minor": 5
}
